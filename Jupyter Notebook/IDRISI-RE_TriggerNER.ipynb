{
 "cells": [
  {
   "cell_type": "markdown",
   "metadata": {},
   "source": [
    "# Named Entity Recognition"
   ]
  },
  {
   "cell_type": "markdown",
   "metadata": {},
   "source": [
    "Notebook based on the work of Lee et al. (\"LEAN-LIFE: A Label-Efficient Annotation Framework Towards Learning from Explanation,\" 2020).\n",
    "\n",
    "Ensure that FastAPI is up and running. [instructions here](../fast_api/readme.md)"
   ]
  },
  {
   "cell_type": "markdown",
   "metadata": {},
   "source": [
    "# Table of contents\n",
    "\n",
    "1. Data prep\n",
    "2. Standard\n",
    "        2.1. Train Model\n",
    "        2.2. Predict Labels\n",
    "        2.3. Evaluate Model\n",
    "3. Trigger\n",
    "        3.1. Soft Match\n",
    "            3.1.1. Train Model\n",
    "            3.1.2. Predict Labels\n",
    "            3.1.3. Evaluate Model\n",
    "<!--         3.2. Strict Match\n",
    "            3.2.1. Train Model\n",
    "            3.2.2. Predict Labels\n",
    "            3.2.3. Evaluate Model -->"
   ]
  },
  {
   "cell_type": "code",
   "execution_count": 1,
   "metadata": {
    "pycharm": {
     "name": "#%%\n"
    }
   },
   "outputs": [],
   "source": [
    "# imports\n",
    "import requests\n",
    "import json\n",
    "import numpy as np"
   ]
  },
  {
   "cell_type": "code",
   "execution_count": 2,
   "metadata": {},
   "outputs": [],
   "source": [
    "FAST_API_URL = \"http://localhost:9000\""
   ]
  },
  {
   "cell_type": "markdown",
   "metadata": {},
   "source": [
    " ---\n",
    " # 1. Data prep"
   ]
  },
  {
   "cell_type": "markdown",
   "metadata": {},
   "source": [
    "---\n",
    "#### Prepare data for Trigger training"
   ]
  },
  {
   "cell_type": "code",
   "execution_count": 3,
   "metadata": {},
   "outputs": [
    {
     "data": {
      "text/plain": [
       "[{'text': 'Korean actress Lee Young-ae know as ‘ Changumi ’ made a contribution of USD 50,000 to support flood relief efforts in Sri Lanka',\n",
       "  'label': 'O O O O O O O O O O O O O O O O O O O O O B-LOC I-LOC',\n",
       "  'explanation': 'O O O O O O O O O O O O O O O O O O T-0 T-0 T-0 O O'},\n",
       " {'text': 'RT @ Vidiyallk : Government seeks # world aid for # FloodRelief ; 4 ministers appointed to work out plans for donor conference in # Colombo short',\n",
       "  'label': 'O O O O O O O O O O O O O O O O O O O O O O O O O B-LOC O',\n",
       "  'explanation': 'O O O O O O O O O O O O O O O O O O O O O O T-0 T-0 O O O'},\n",
       " {'text': 'First phase of the @ IMCD_officials # FloodRelief program is over . Please direct dry ration donations to Rathmalana Air Force Camp . # FloodSL',\n",
       "  'label': 'O O O O O O O O O O O O O O O O O O B-LOC O O O O O O',\n",
       "  'explanation': 'O O O O O O O O O O O O O O O O T-0 T-0 O T-1 T-2 T-2 O O O'}]"
      ]
     },
     "execution_count": 3,
     "metadata": {},
     "output_type": "execute_result"
    }
   ],
   "source": [
    "# load labelled data with explanations for Trigger training\n",
    "data = json.load(open('explanation_IDRISI-RE-flood_without_empty.json'))\n",
    "data[0:3]"
   ]
  },
  {
   "cell_type": "markdown",
   "metadata": {},
   "source": [
    "---\n",
    "#### Prepare data for evaluation"
   ]
  },
  {
   "cell_type": "code",
   "execution_count": 4,
   "metadata": {},
   "outputs": [
    {
     "data": {
      "text/plain": [
       "[{'text': '@ GetalongDRescue Maryland . Here is Dante a rescue from # Arkansas',\n",
       "  'label': 'O O O O O O O O O O O B-LOC',\n",
       "  'explanation': 'O O O O O O O O O T-0 O O'},\n",
       " {'text': 'JUST IN : Howard County police say the body of Eddison Alexander Hermond , who went missing during destructive flash flooding in Maryland after trying to help a woman rescue her cat , was found by searchers',\n",
       "  'label': 'O O O B-LOC I-LOC O O O O O O O O O O O O O O O O O O O O O O O O O O O O O O O O',\n",
       "  'explanation': 'O O O O O T-0 O O O O O O O O O O O O O O O O O O O O O O O O O O O O O O O'},\n",
       " {'text': 'NEW : Officials say Offutt Air Force Base has returned to full operation in Nebraska after its runway and dozens of buildings were inundated by floodwaters from the nearby Missouri River earlier this month .',\n",
       "  'label': 'O O O O O O O O O O O O O O B-LOC O O O O O O O O O O O O O O O O O O O O',\n",
       "  'explanation': 'O O O O O T-0 T-0 T-0 O O O O O T-1 O O O O O O O O O O O O O O O O O O O O O'}]"
      ]
     },
     "execution_count": 4,
     "metadata": {},
     "output_type": "execute_result"
    }
   ],
   "source": [
    "gen = np.random.default_rng(seed=1337)\n",
    "\n",
    "data_shuffled = data.copy()\n",
    "gen.shuffle(data_shuffled)\n",
    "data_shuffled[0:3]"
   ]
  },
  {
   "cell_type": "code",
   "execution_count": 5,
   "metadata": {},
   "outputs": [
    {
     "data": {
      "text/plain": [
       "3103"
      ]
     },
     "execution_count": 5,
     "metadata": {},
     "output_type": "execute_result"
    }
   ],
   "source": [
    "size = len(data_shuffled)\n",
    "size"
   ]
  },
  {
   "cell_type": "code",
   "execution_count": 6,
   "metadata": {},
   "outputs": [],
   "source": [
    "train_split_end = 0.7\n",
    "dev_split_end = 0.85\n",
    "train, dev, test = np.split(data_shuffled,\n",
    "                       [int(size*train_split_end), int(size*dev_split_end)]\n",
    "                   )"
   ]
  },
  {
   "cell_type": "code",
   "execution_count": 7,
   "metadata": {},
   "outputs": [],
   "source": [
    "train, dev, test = list(train), list(dev), list(test)"
   ]
  },
  {
   "cell_type": "code",
   "execution_count": 8,
   "metadata": {},
   "outputs": [],
   "source": [
    "def remove_triggers(dataset):\n",
    "    return list(map(\n",
    "        lambda x: { 'text':x['text'], 'label':x['label'] },\n",
    "        dataset\n",
    "    ))\n",
    "\n",
    "train_without_triggers = remove_triggers(train)\n",
    "dev_without_triggers = remove_triggers(dev)\n",
    "test_without_triggers = remove_triggers(test)"
   ]
  },
  {
   "cell_type": "code",
   "execution_count": 9,
   "metadata": {},
   "outputs": [
    {
     "name": "stdout",
     "output_type": "stream",
     "text": [
      "2172\n",
      "466\n",
      "465\n",
      "3103\n",
      "[{'text': '@ GetalongDRescue Maryland . Here is Dante a rescue from # Arkansas', 'label': 'O O O O O O O O O O O B-LOC', 'explanation': 'O O O O O O O O O T-0 O O'}, {'text': 'JUST IN : Howard County police say the body of Eddison Alexander Hermond , who went missing during destructive flash flooding in Maryland after trying to help a woman rescue her cat , was found by searchers', 'label': 'O O O B-LOC I-LOC O O O O O O O O O O O O O O O O O O O O O O O O O O O O O O O O', 'explanation': 'O O O O O T-0 O O O O O O O O O O O O O O O O O O O O O O O O O O O O O O O'}, {'text': 'NEW : Officials say Offutt Air Force Base has returned to full operation in Nebraska after its runway and dozens of buildings were inundated by floodwaters from the nearby Missouri River earlier this month .', 'label': 'O O O O O O O O O O O O O O B-LOC O O O O O O O O O O O O O O O O O O O O', 'explanation': 'O O O O O T-0 T-0 T-0 O O O O O T-1 O O O O O O O O O O O O O O O O O O O O O'}]\n",
      "[{'text': '@ GetalongDRescue Maryland . Here is Dante a rescue from # Arkansas', 'label': 'O O O O O O O O O O O B-LOC'}, {'text': 'JUST IN : Howard County police say the body of Eddison Alexander Hermond , who went missing during destructive flash flooding in Maryland after trying to help a woman rescue her cat , was found by searchers', 'label': 'O O O B-LOC I-LOC O O O O O O O O O O O O O O O O O O O O O O O O O O O O O O O O'}, {'text': 'NEW : Officials say Offutt Air Force Base has returned to full operation in Nebraska after its runway and dozens of buildings were inundated by floodwaters from the nearby Missouri River earlier this month .', 'label': 'O O O O O O O O O O O O O O B-LOC O O O O O O O O O O O O O O O O O O O O'}]\n"
     ]
    }
   ],
   "source": [
    "print(len(train))\n",
    "print(len(test))\n",
    "print(len(dev))\n",
    "print(len(train)+len(dev)+len(test))\n",
    "print(train[0:3])\n",
    "print(train_without_triggers[0:3])"
   ]
  },
  {
   "cell_type": "markdown",
   "metadata": {},
   "source": [
    "---\n",
    "#### Prepare data for prediction"
   ]
  },
  {
   "cell_type": "code",
   "execution_count": 10,
   "metadata": {},
   "outputs": [],
   "source": [
    "test_without_triggers_as_list = list(map(\n",
    "    lambda x: [x['text'], x['label']],\n",
    "    test\n",
    "))\n",
    "test_only_text = list(map(\n",
    "    lambda x: [x['text']],\n",
    "    test\n",
    "))"
   ]
  },
  {
   "cell_type": "code",
   "execution_count": 11,
   "metadata": {},
   "outputs": [
    {
     "data": {
      "text/plain": [
       "['Pakistan Navy conducts relief operations in flood-battered Sri Lanka # news',\n",
       " 'An important lesson from Kerala floods . Keep your insurance policy numbers and their helplines handy so you can reach out as soon as possible during such a calamity Heres what youve to do if you lose your papers during such periods # KeralaFloodRelief # KeralaFloods',\n",
       " 'MPD 0261 SE # PENNSYLVANIA , N # DELAWARE INTO # MARYLAND , # DC & CNTRL/E # VIRGINIA FLASH FLOODING POSSIBLE VALID TIL 0510 AM EDT ADDITIONAL FLASH FLOODING WILL BE POSSIBLE OVER THE NEXT FEW HOURS . AN ADDITIONAL 2-4 IN WILL BE POSSIBLE ON TOP OF SATURATED SOILS']"
      ]
     },
     "execution_count": 11,
     "metadata": {},
     "output_type": "execute_result"
    }
   ],
   "source": [
    "predict = list(map(lambda x: x[0], test_only_text))[:10]\n",
    "predict[0:3]"
   ]
  },
  {
   "cell_type": "markdown",
   "metadata": {},
   "source": [
    "---\n",
    "---\n",
    "# 2. Standard"
   ]
  },
  {
   "cell_type": "markdown",
   "metadata": {},
   "source": [
    "Check [this](../fast_api/json_schema.py#L516) json schema for a list of all parameters.\n",
    "\n",
    "Check [this](../model_training/internal_api/defaults.py) for default values."
   ]
  },
  {
   "cell_type": "markdown",
   "metadata": {},
   "source": [
    "## 2.1. Train model"
   ]
  },
  {
   "cell_type": "markdown",
   "metadata": {},
   "source": [
    "### Define training parameters"
   ]
  },
  {
   "cell_type": "code",
   "execution_count": 12,
   "metadata": {},
   "outputs": [],
   "source": [
    "params_standard_training = {\n",
    "    # a string name representing the model name\n",
    "    \"experiment_name\": \"idrisi_ner_standard\",\n",
    "    # a string name representing the dataset name\n",
    "    \"dataset_name\": \"idrisi\",\n",
    "    # task type - \"ner\" for Named Entity REcognition\n",
    "    \"task\": \"ner\",\n",
    "    # when \"True\" data has to be passed, \n",
    "    # \"False\" when re-training or the data was processed earlier and can be retrieved\n",
    "    \"build_data\": True,\n",
    "    \"num_epochs\": 10,\n",
    "    # training batch size\n",
    "    \"batch_size\": 10,\n",
    "    # learning rate\n",
    "    \"learning_rate\": 0.01,\n",
    "    # embedding to be used for training. usual default: \"glove.6B.100d\"\n",
    "    \"embeddings\": \"glove.6B.100d\",\n",
    "    # embedding dimension of the \"embeddings\" provided\n",
    "    \"emb_dim\": 100,\n",
    "    # number of hidden dimensions\n",
    "    \"hidden_dim\": 200,\n",
    "    # random seed\n",
    "    \"seed\": 1337,\n",
    "}"
   ]
  },
  {
   "cell_type": "markdown",
   "metadata": {},
   "source": [
    "### Run model training"
   ]
  },
  {
   "cell_type": "code",
   "execution_count": 28,
   "metadata": {},
   "outputs": [
    {
     "data": {
      "text/plain": [
       "'{\"save_path\":\"/home/yoriyari/LEAN-LIFE/model_api/fast_api/../model_training/trigger_ner/utilities/../../generated_data/saved_models/naive_idrisi_glove.6B.100d_1337_-1.0\"}'"
      ]
     },
     "execution_count": 28,
     "metadata": {},
     "output_type": "execute_result"
    }
   ],
   "source": [
    "# depending on input size, and computing environment this might take time.\n",
    "# please check FAST API logs for updates\n",
    "response = requests.post(\n",
    "    FAST_API_URL + '/training/standard/ner/api/',\n",
    "    json={\n",
    "        'params': params_standard_training,\n",
    "        'labeled_data': train_without_triggers,\n",
    "        'dev_data': dev_without_triggers,\n",
    "        'eval_data': test_without_triggers,\n",
    "    }\n",
    ")\n",
    "# JSON with \"save_path\" key is returned when successful\n",
    "response.text"
   ]
  },
  {
   "cell_type": "markdown",
   "metadata": {},
   "source": [
    "---\n",
    "## 2.2. Predict labels"
   ]
  },
  {
   "cell_type": "markdown",
   "metadata": {},
   "source": [
    "### Define prediction parameters"
   ]
  },
  {
   "cell_type": "code",
   "execution_count": 13,
   "metadata": {},
   "outputs": [],
   "source": [
    "params_standard_prediction = {\n",
    "    # a string name representing the model name\n",
    "    \"experiment_name\": \"idrisi_ner_standard\",\n",
    "    # a string name representing the dataset name\n",
    "    \"dataset_name\": \"idrisi\",\n",
    "    # task type - \"ner\" for Named Entity Recognition\n",
    "    \"task\": \"ner\",\n",
    "    # prediction batch size\n",
    "    \"batch_size\": 10,\n",
    "    # embedding to be used for training. usual default: \"glove.6B.100d\"\n",
    "    \"embeddings\": \"glove.6B.100d\",\n",
    "    # embedding dimension of the \"embeddings\" provided\n",
    "    \"emb_dim\": 100,\n",
    "    # number of hidden dimensions\n",
    "    \"hidden_dim\": 200,\n",
    "}"
   ]
  },
  {
   "cell_type": "markdown",
   "metadata": {},
   "source": [
    "### Fetch predictions"
   ]
  },
  {
   "cell_type": "code",
   "execution_count": 14,
   "metadata": {},
   "outputs": [
    {
     "data": {
      "text/plain": [
       "'{\"class_preds\":[\"S-LOC O O O O O O B-LOC E-LOC O O\",\"O O O O S-LOC O O O O O O O O O O O O O O O O O O O O O O O O O O O O O O O O O O O O O O O O O\",\"O O O O O O O O O O O O O O O O O O S-LOC O O O O O O O O O O O O O O O O O O O O O O O O O O O O O O O O\",\"O O O O O O O O O O O O O O O O O O O O O O O O O O O O O O O O O O O O O O O O O O O\",\"O O O O O O O O O O O O O O S-LOC\",\"O O O O O O O O O O O O O S-LOC O O O O O O O O O O O O O O\",\"O O O O O O O O O O O O O O O O O O O O O O O O O O O O O O O O O O O O O O O\",\"O O O O O O O O O O S-LOC O O O S-LOC O O O O O O O O O O O O O\",\"O O O O O O O B-LOC E-LOC O S-LOC O O O O O\",\"O O O O O O O O O O O O O O O O O O O O O O O O O O O O O O O O\"]}'"
      ]
     },
     "execution_count": 14,
     "metadata": {},
     "output_type": "execute_result"
    }
   ],
   "source": [
    "response = requests.post(\n",
    "    FAST_API_URL + '/training/standard/ner/predict/',\n",
    "    json={\n",
    "        'params': params_standard_prediction,\n",
    "        'prediction_data': predict,\n",
    "    }\n",
    ")\n",
    "# returns JSON object with keys\n",
    "# \"class_probs\" - list of list representing predictions for each label\n",
    "# \"class_preds\" - list representing the label that was predicted\n",
    "response.text"
   ]
  },
  {
   "cell_type": "code",
   "execution_count": 15,
   "metadata": {},
   "outputs": [
    {
     "data": {
      "text/plain": [
       "['Pakistan Navy conducts relief operations in flood-battered Sri Lanka # news',\n",
       " 'An important lesson from Kerala floods . Keep your insurance policy numbers and their helplines handy so you can reach out as soon as possible during such a calamity Heres what youve to do if you lose your papers during such periods # KeralaFloodRelief # KeralaFloods',\n",
       " 'MPD 0261 SE # PENNSYLVANIA , N # DELAWARE INTO # MARYLAND , # DC & CNTRL/E # VIRGINIA FLASH FLOODING POSSIBLE VALID TIL 0510 AM EDT ADDITIONAL FLASH FLOODING WILL BE POSSIBLE OVER THE NEXT FEW HOURS . AN ADDITIONAL 2-4 IN WILL BE POSSIBLE ON TOP OF SATURATED SOILS',\n",
       " 'Our @ ArtofLiving 2nd Truck , with 4 Tons of Flood Relief Material departed to Ernakulam AOL Centre.Wonderful Seva by Chennai Volunteers & # Yoga Kids supported by KLM Royal Dutch Airlines / Lufthansa Airlines Employees & Budding Minds International School. # KeralaFloodRelief',\n",
       " 'Govt . seeks assistance from development partners to rebuild after floods # lka # srilanka',\n",
       " 'Watch how our team is responding to the destruction caused by flooding in Nebraska . You can # volunteer to help hurting homeowners with love and compassion .',\n",
       " 'Kerala Chief Minister Pinarayi Vijayan will today conduct an in-person review of the functioning of relief camps . He will visit the camps in Chengannur , Kozhencherry , Alappuzha , North Paravoor and Chalakudy . # KeralaFloods # KeralaFloodRelief',\n",
       " '# keralafloods # chengannur My parents are still stranded in Madavana , Pandanad , Chengannur . No food or water has reached theme yet . Please help .',\n",
       " 'National Guardsman missing after flash flooding devastates Ellicott City , Maryland . @ David_Kerley reports .',\n",
       " '# Kerala : Nagaland Deputy CM Y Patton today met Kerala CM and gave a cheque for Kerala CM Relief Fund , on behalf of Nagaland CM Neiphiu Rio . # KeralaFloods']"
      ]
     },
     "execution_count": 15,
     "metadata": {},
     "output_type": "execute_result"
    }
   ],
   "source": [
    "predict"
   ]
  },
  {
   "cell_type": "markdown",
   "metadata": {},
   "source": [
    "---\n",
    "## 2.3. Evaluate model"
   ]
  },
  {
   "cell_type": "markdown",
   "metadata": {},
   "source": [
    "### Define evaluation parameters"
   ]
  },
  {
   "cell_type": "code",
   "execution_count": 16,
   "metadata": {},
   "outputs": [],
   "source": [
    "params_standard_eval = {\n",
    "    # a string name representing the model name\n",
    "    \"experiment_name\": \"idrisi_ner_standard\",\n",
    "    # a string name representing the dataset name\n",
    "    \"dataset_name\": \"idrisi\",\n",
    "    # task type - \"ner\" for Named Entity Recognition\n",
    "    \"task\": \"ner\",\n",
    "    # evaluation batch size\n",
    "    \"batch_size\": 10,\n",
    "    # embedding to be used for training. usual default: \"glove.6B.100d\"\n",
    "    \"embeddings\": \"glove.6B.100d\",\n",
    "    # embedding dimension of the \"embeddings\" provided\n",
    "    \"emb_dim\": 100,\n",
    "    # number of hidden dimensions\n",
    "    \"hidden_dim\": 200,\n",
    "}"
   ]
  },
  {
   "cell_type": "markdown",
   "metadata": {},
   "source": [
    "### Run model evaluation"
   ]
  },
  {
   "cell_type": "code",
   "execution_count": 17,
   "metadata": {},
   "outputs": [
    {
     "data": {
      "text/plain": [
       "'{\"precision\":54.67625899280576,\"recall\":65.23605150214593,\"f1\":59.49119373776909}'"
      ]
     },
     "execution_count": 17,
     "metadata": {},
     "output_type": "execute_result"
    }
   ],
   "source": [
    "response = requests.post(\n",
    "    FAST_API_URL + '/training/standard/ner/eval/',\n",
    "    json={\n",
    "        'params': params_standard_eval,\n",
    "        'eval_data': test_without_triggers_as_list,\n",
    "    }\n",
    ")\n",
    "# returns JSON object with keys\n",
    "# \"precision\", \"recall\" and \"f1\"\n",
    "response.text"
   ]
  },
  {
   "cell_type": "markdown",
   "metadata": {},
   "source": [
    "---\n",
    "---\n",
    "# 3. Trigger"
   ]
  },
  {
   "cell_type": "markdown",
   "metadata": {},
   "source": [
    "Check [this](../fast_api/json_schema.py#L516) json schema for a list of all parameters.\n",
    "\n",
    "Check [this](../model_training/internal_api/defaults.py) for default values."
   ]
  },
  {
   "cell_type": "markdown",
   "metadata": {},
   "source": [
    "## 3.1. Train model"
   ]
  },
  {
   "cell_type": "markdown",
   "metadata": {},
   "source": [
    "### Define training parameters"
   ]
  },
  {
   "cell_type": "code",
   "execution_count": 12,
   "metadata": {},
   "outputs": [],
   "source": [
    "params_training = {\n",
    "    # a string name representing the model name\n",
    "    \"experiment_name\": \"idrisi_ner_soft_match\",\n",
    "    # a string name representing the dataset name\n",
    "    \"dataset_name\": \"idrisi_trigger\",\n",
    "    # task type - \"ner\" for Named Entity REcognition\n",
    "    \"task\": \"ner\",\n",
    "    # when \"True\" data has to be passed, \n",
    "    # \"False\" when re-training or the data was processed earlier and can be retrieved\n",
    "    \"build_data\": True,\n",
    "    # number of epochs\n",
    "    \"num_epochs\": 10,\n",
    "    # number of pre training epochs\n",
    "    \"pre_train_num_epochs\": 20,\n",
    "    # training batch size\n",
    "    \"batch_size\": 10,\n",
    "    # learning rate\n",
    "    \"learning_rate\": 0.01,\n",
    "    # embedding to be used for training. usual default: \"glove.6B.100d\"\n",
    "    \"embeddings\": \"glove.6B.100d\",\n",
    "    # embedding dimension of the \"embeddings\" provided\n",
    "    \"emb_dim\": 100,\n",
    "    # number of hidden dimensions\n",
    "    \"hidden_dim\": 200,\n",
    "    # random seed\n",
    "    \"seed\": 1337,\n",
    "}"
   ]
  },
  {
   "cell_type": "markdown",
   "metadata": {},
   "source": [
    "### Run model training"
   ]
  },
  {
   "cell_type": "code",
   "execution_count": 16,
   "metadata": {},
   "outputs": [
    {
     "data": {
      "text/plain": [
       "'{\"save_path\":\"/home/yoriyari/LEAN-LIFE/model_api/fast_api/../model_training/trigger_ner/utilities/../../generated_data/saved_models/trigger_idrisi_trigger_glove.6B.100d_1337_-1.0\"}'"
      ]
     },
     "execution_count": 16,
     "metadata": {},
     "output_type": "execute_result"
    }
   ],
   "source": [
    "# depending on input size, and computing environment this might take time.\n",
    "# please check FAST API logs for updates\n",
    "response = requests.post(\n",
    "    FAST_API_URL + '/training/trigger/api/',\n",
    "    json={\n",
    "        'params': params_training,\n",
    "        'explanation_triples': train,\n",
    "        'dev_data': dev,\n",
    "        'eval_data': test,\n",
    "    }\n",
    ")\n",
    "# JSON with \"save_path\" key is returned when successful\n",
    "response.text"
   ]
  },
  {
   "cell_type": "markdown",
   "metadata": {},
   "source": [
    "---\n",
    "## 3.2. Predict labels"
   ]
  },
  {
   "cell_type": "markdown",
   "metadata": {},
   "source": [
    "### Define prediction parameters"
   ]
  },
  {
   "cell_type": "code",
   "execution_count": 17,
   "metadata": {},
   "outputs": [],
   "source": [
    "params_prediction = {\n",
    "    # a string name representing the model name\n",
    "    \"experiment_name\": \"idrisi_ner_soft_match\",\n",
    "    # a string name representing the dataset name\n",
    "    \"dataset_name\": \"idrisi_trigger\",\n",
    "    # task type - \"ner\" for Named Entity Recognition\n",
    "    \"task\": \"ner\",\n",
    "    # prediction batch size\n",
    "    \"batch_size\": 10,\n",
    "    # embedding to be used for training. usual default: \"glove.6B.100d\"\n",
    "    \"embeddings\": \"glove.6B.100d\",\n",
    "    # embedding dimension of the \"embeddings\" provided\n",
    "    \"emb_dim\": 100,\n",
    "    # number of hidden dimensions\n",
    "    \"hidden_dim\": 200,\n",
    "}"
   ]
  },
  {
   "cell_type": "markdown",
   "metadata": {},
   "source": [
    "### Fetch predictions"
   ]
  },
  {
   "cell_type": "code",
   "execution_count": 18,
   "metadata": {
    "scrolled": true
   },
   "outputs": [
    {
     "data": {
      "text/plain": [
       "'{\"class_preds\":[\"S-LOC O O O O O O B-LOC E-LOC O O\",\"O O O O S-LOC O O O O O O O O O O O O O O O O O O O O O O O O O O O O O O O O O O O O O O O O O\",\"O O O O S-LOC O O O O O O O O O O O O O S-LOC O O O O O O O O O O O O O O O O O O O O O O O O O O O O O O O O\",\"O O O O O O O O O O O O O O O S-LOC O O O O S-LOC O O O O O O O O O O O O O O O O O O O O O O\",\"O O O O O O O O O O O O O O O\",\"O O O O O O O O O O O O O S-LOC O O O O O O O O O O O O O O\",\"S-LOC O O O O O O O O O O O O O O O O O O O O O O O S-LOC O S-LOC O S-LOC O O O O O O O O O O\",\"O O O O O O O O O O S-LOC O O O S-LOC O O O O O O O O O O O O O\",\"O O O O O O O B-LOC E-LOC O S-LOC O O O O O\",\"O O O O O O O O O O S-LOC O O O O O O S-LOC O O O O O O O O O O O O O O\"],\"trigger_preds\":[\"<UNK> @ GetalongDRescue Maryland . Here is Dante a rescue\",\"NEW Officials\",\"Force Base\",\"went missing during\",\"woman her cat was\",\"Offutt Air Force\",\"went missing during destructive\",\"to help woman her\",\"# Arkansas JUST IN : Howard\",\"woman her cat was\"],\"distance_preds\":[1.3722684383392334,0.6207191348075867,1.5361816883087158,1.0691622495651245,1.7228599786758423,1.464092493057251,0.5763373374938965,1.2626638412475586,0.6395993232727051,0.25269389152526855]}'"
      ]
     },
     "execution_count": 18,
     "metadata": {},
     "output_type": "execute_result"
    }
   ],
   "source": [
    "response = requests.post(\n",
    "    FAST_API_URL + '/training/trigger/predict/',\n",
    "    json={\n",
    "        'params': params_prediction,\n",
    "        'prediction_data': predict,\n",
    "    }\n",
    ")\n",
    "# returns JSON object with keys\n",
    "# \"class_probs\" - list of list representing predictions for each label\n",
    "# \"class_preds\" - list representing the label that was predicted\n",
    "response.text"
   ]
  },
  {
   "cell_type": "code",
   "execution_count": 19,
   "metadata": {},
   "outputs": [
    {
     "data": {
      "text/plain": [
       "['Pakistan Navy conducts relief operations in flood-battered Sri Lanka # news',\n",
       " 'An important lesson from Kerala floods . Keep your insurance policy numbers and their helplines handy so you can reach out as soon as possible during such a calamity Heres what youve to do if you lose your papers during such periods # KeralaFloodRelief # KeralaFloods',\n",
       " 'MPD 0261 SE # PENNSYLVANIA , N # DELAWARE INTO # MARYLAND , # DC & CNTRL/E # VIRGINIA FLASH FLOODING POSSIBLE VALID TIL 0510 AM EDT ADDITIONAL FLASH FLOODING WILL BE POSSIBLE OVER THE NEXT FEW HOURS . AN ADDITIONAL 2-4 IN WILL BE POSSIBLE ON TOP OF SATURATED SOILS',\n",
       " 'Our @ ArtofLiving 2nd Truck , with 4 Tons of Flood Relief Material departed to Ernakulam AOL Centre.Wonderful Seva by Chennai Volunteers & # Yoga Kids supported by KLM Royal Dutch Airlines / Lufthansa Airlines Employees & Budding Minds International School. # KeralaFloodRelief',\n",
       " 'Govt . seeks assistance from development partners to rebuild after floods # lka # srilanka',\n",
       " 'Watch how our team is responding to the destruction caused by flooding in Nebraska . You can # volunteer to help hurting homeowners with love and compassion .',\n",
       " 'Kerala Chief Minister Pinarayi Vijayan will today conduct an in-person review of the functioning of relief camps . He will visit the camps in Chengannur , Kozhencherry , Alappuzha , North Paravoor and Chalakudy . # KeralaFloods # KeralaFloodRelief',\n",
       " '# keralafloods # chengannur My parents are still stranded in Madavana , Pandanad , Chengannur . No food or water has reached theme yet . Please help .',\n",
       " 'National Guardsman missing after flash flooding devastates Ellicott City , Maryland . @ David_Kerley reports .',\n",
       " '# Kerala : Nagaland Deputy CM Y Patton today met Kerala CM and gave a cheque for Kerala CM Relief Fund , on behalf of Nagaland CM Neiphiu Rio . # KeralaFloods']"
      ]
     },
     "execution_count": 19,
     "metadata": {},
     "output_type": "execute_result"
    }
   ],
   "source": [
    "predict"
   ]
  },
  {
   "cell_type": "markdown",
   "metadata": {},
   "source": [
    "---\n",
    "## 3.3. Evaluate model"
   ]
  },
  {
   "cell_type": "markdown",
   "metadata": {},
   "source": [
    "### Define evaluation parameters"
   ]
  },
  {
   "cell_type": "code",
   "execution_count": 20,
   "metadata": {},
   "outputs": [],
   "source": [
    "params_eval = {\n",
    "    # a string name representing the model name\n",
    "    \"experiment_name\": \"idrisi_ner_soft_match\",\n",
    "    # a string name representing the dataset name\n",
    "    \"dataset_name\": \"idrisi_trigger\",\n",
    "    # task type - \"ner\" for Named Entity Recognition\n",
    "    \"task\": \"re\",\n",
    "    # evaluation batch size\n",
    "    \"batch_size\": 10,\n",
    "    # embedding to be used for training. usual default: \"glove.6B.100d\"\n",
    "    \"embeddings\": \"glove.6B.100d\",\n",
    "    # embedding dimension of the \"embeddings\" provided\n",
    "    \"emb_dim\": 100,\n",
    "    # number of hidden dimensions\n",
    "    \"hidden_dim\": 200,\n",
    "}"
   ]
  },
  {
   "cell_type": "markdown",
   "metadata": {},
   "source": [
    "### Run model evaluation"
   ]
  },
  {
   "cell_type": "code",
   "execution_count": 21,
   "metadata": {},
   "outputs": [
    {
     "data": {
      "text/plain": [
       "'{\"precision\":41.50485436893204,\"recall\":73.39055793991416,\"f1\":53.02325581395348}'"
      ]
     },
     "execution_count": 21,
     "metadata": {},
     "output_type": "execute_result"
    }
   ],
   "source": [
    "response = requests.post(\n",
    "    FAST_API_URL + '/training/trigger/eval/',\n",
    "    json={\n",
    "        'params': params_eval,\n",
    "        'eval_data': test_without_triggers_as_list,\n",
    "    }\n",
    ")\n",
    "# returns JSON object with keys\n",
    "# \"precision\", \"recall\" and \"f1\"\n",
    "response.text"
   ]
  }
 ],
 "metadata": {
  "kernelspec": {
   "display_name": "Python 3",
   "language": "python",
   "name": "python3"
  },
  "language_info": {
   "codemirror_mode": {
    "name": "ipython",
    "version": 3
   },
   "file_extension": ".py",
   "mimetype": "text/x-python",
   "name": "python",
   "nbconvert_exporter": "python",
   "pygments_lexer": "ipython3",
   "version": "3.6.13"
  }
 },
 "nbformat": 4,
 "nbformat_minor": 4
}
